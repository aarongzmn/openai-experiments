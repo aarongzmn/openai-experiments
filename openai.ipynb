{
 "cells": [
  {
   "cell_type": "markdown",
   "metadata": {},
   "source": [
    "# Open.AI Classification Example\n",
    "- https://beta.openai.com/docs/guides/classifications"
   ]
  },
  {
   "cell_type": "markdown",
   "metadata": {},
   "source": [
    "## Read Labeled Data and Convert to JSON Lines File\n",
    "The Open.AI API accepts JSONL files, so first we need to convert our Excel data to JSON Lines format."
   ]
  },
  {
   "cell_type": "code",
   "execution_count": null,
   "metadata": {},
   "outputs": [],
   "source": [
    "import pandas as pd\n",
    "\n",
    "\n",
    "df = pd.read_excel(\"Training Data/Sample Feedback.xlsx\")\n",
    "df.to_json(r\"Training Data/training_data.jsonl\", orient=\"records\", lines=True)\n"
   ]
  },
  {
   "cell_type": "markdown",
   "metadata": {},
   "source": [
    "## Upload Labeled Data"
   ]
  },
  {
   "cell_type": "code",
   "execution_count": null,
   "metadata": {},
   "outputs": [],
   "source": [
    "import openai\n",
    "\n",
    "\n",
    "file_id = openai.File.create(file=open(\"Training Data/training_data.jsonl\"), purpose=\"classifications\")\n",
    "file_id"
   ]
  },
  {
   "cell_type": "markdown",
   "metadata": {},
   "source": [
    "## Classify Text"
   ]
  },
  {
   "cell_type": "code",
   "execution_count": 44,
   "metadata": {},
   "outputs": [
    {
     "data": {
      "text/plain": [
       "'Late_or_lost'"
      ]
     },
     "execution_count": 44,
     "metadata": {},
     "output_type": "execute_result"
    }
   ],
   "source": [
    "new_feedback = \"Although I am happy with the shirt, I was a little disappointed that the item arrived late. I was notified by Amazon that there would be a delay.\"\n",
    "\n",
    "result = openai.Classification.create(\n",
    "    file=\"file-4QG7hbWs542b9SzXuH4HHhQO\",\n",
    "    query=new_feedback,\n",
    "    search_model=\"ada\", \n",
    "    model=\"curie\", \n",
    "    max_examples=25\n",
    ")\n",
    "\n",
    "result.to_dict().get(\"label\")"
   ]
  }
 ],
 "metadata": {
  "interpreter": {
   "hash": "abf40973a076ccfd60da46d74b12b480e54a884a787bad4bae15f53031bf7d5a"
  },
  "kernelspec": {
   "display_name": "Python 3.9.5 64-bit",
   "language": "python",
   "name": "python3"
  },
  "language_info": {
   "codemirror_mode": {
    "name": "ipython",
    "version": 3
   },
   "file_extension": ".py",
   "mimetype": "text/x-python",
   "name": "python",
   "nbconvert_exporter": "python",
   "pygments_lexer": "ipython3",
   "version": "3.9.5"
  },
  "orig_nbformat": 4
 },
 "nbformat": 4,
 "nbformat_minor": 2
}
